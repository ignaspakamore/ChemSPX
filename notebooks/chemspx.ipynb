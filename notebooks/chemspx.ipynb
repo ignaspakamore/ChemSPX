{
 "cells": [
  {
   "cell_type": "code",
   "execution_count": 1,
   "metadata": {},
   "outputs": [],
   "source": [
    "from ChemSPX import ChemSPX"
   ]
  },
  {
   "cell_type": "code",
   "execution_count": 2,
   "metadata": {},
   "outputs": [],
   "source": [
    "input = {\n",
    "    'in_file': '2d_samples.csv',\n",
    "    'out_dir': 'hist_force',\n",
    "    'print_every': 1,\n",
    "    'write_initial': True,\n",
    "\n",
    "    'verbose': 1,\n",
    "    'init_data_sampling': 'LHS',\n",
    "    'OPT_method': 'GA',\n",
    "    'omptimisation_cycles': 5,\n",
    "\n",
    "    'Apply_BD': True, \n",
    "    'UBL': '1, 1',\n",
    "    'LBL': '0, 0',\n",
    "\n",
    "    'iteration_num': 5,\n",
    "\n",
    "    'optimisation_cycles': 7,\n",
    "    'conv_thr': 8e-20,\n",
    "    'sample_number': 2,\n",
    "\n",
    "    'conv_fx': 1,\n",
    "    'conv_del_fx': 1e-7,\n",
    "    'conv_vec': 1e-1,\n",
    "    'check_conv_every': 100,\n",
    "    'method': 'full_space',\n",
    "    'xi': 0.01,\n",
    "    'GRID_sample_number': 100,\n",
    "    'ini_pop_size': 100,\n",
    "    'pop_size': 100,\n",
    "    'n_processes': 1,\n",
    "\n",
    "\n",
    "    #BALL TREE input parameters\n",
    "    'f(x)': 'BallTree_Force',\n",
    "    'power': 1,\n",
    "    'k': 2\n",
    "}"
   ]
  },
  {
   "cell_type": "code",
   "execution_count": 3,
   "metadata": {},
   "outputs": [
    {
     "name": "stdout",
     "output_type": "stream",
     "text": [
      "\n",
      "  _____  _     _  ______ _______      _______  _____  _     _\n",
      " |       |_____| |______ |  |  |      |______ |_____]  \\___/ \n",
      " |_____  |     | |______ |  |  |      ______| |       _/   \\_\n",
      "_-_-_-_-_-_-_-_-_-_-_-_-_-_-_-_-_-_-_-_-_-_-_-_-_-_-_-_-_-_-_-_                                                            \n",
      "                                                             \n",
      "                  Chemical Space Explorer\n",
      "                      I. Pakamore PhD    \n",
      "                   University of Glasgow\n",
      "\n",
      "INITIAL DATA\n",
      "------------------------------\n",
      "mean f(x)       = 6.64838\n",
      "STD  f(x)       = 0.37197\n",
      "sample size = 2\n",
      "\n",
      "                    OPTIMISATION -- GA METHOD\n",
      "\n",
      "Step       <f(x)>        Δ<f(x)>         <ΔVEC>          Loop time(s)\n",
      "----------------------------------------------------------------------\n",
      "1       6.648383e+00   6.648062e-02    6.405552e-03       0.122721\n",
      "2       6.413304e+00   4.968568e-02    6.003432e-03       0.146711\n",
      "3       6.201893e+00   2.827975e-02    5.392952e-03       0.102278\n",
      "4       6.036223e+00   7.585374e-03    5.238551e-03       0.097395\n",
      "5       5.965032e+00   8.638968e-03    5.395309e-03       0.098266\n",
      "\n",
      "____ _ _  _ _ ____ _  _ ____ ___  \n",
      "|___ | |\\ | | [__  |__| |___ |  \\ \n",
      "|    | | \\| | ___] |  | |___ |__/ \n",
      "                                \n",
      "FINISHED: Time elapsed 0.58514 s\n"
     ]
    }
   ],
   "source": [
    "ChemSPX(input).run()"
   ]
  },
  {
   "cell_type": "markdown",
   "metadata": {},
   "source": []
  }
 ],
 "metadata": {
  "kernelspec": {
   "display_name": "chemspx",
   "language": "python",
   "name": "python3"
  },
  "language_info": {
   "codemirror_mode": {
    "name": "ipython",
    "version": 3
   },
   "file_extension": ".py",
   "mimetype": "text/x-python",
   "name": "python",
   "nbconvert_exporter": "python",
   "pygments_lexer": "ipython3",
   "version": "3.12.2"
  }
 },
 "nbformat": 4,
 "nbformat_minor": 2
}
